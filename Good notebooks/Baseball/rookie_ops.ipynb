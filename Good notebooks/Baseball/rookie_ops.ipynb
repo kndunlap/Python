{
 "cells": [
  {
   "cell_type": "code",
   "execution_count": null,
   "metadata": {},
   "outputs": [],
   "source": [
    "# Importing the necessary libraries\n",
    "import pybaseball as pyb\n",
    "import numpy as np\n",
    "import pandas as pd"
   ]
  },
  {
   "cell_type": "code",
   "execution_count": null,
   "metadata": {},
   "outputs": [],
   "source": [
    "### Importing all drafts prior to 2012 when they changed to forty rounds.\n",
    "\n",
    "import pandas as pd\n",
    "import pybaseball as pyb\n",
    "from pybaseball import amateur_draft\n",
    "\n",
    "years = list(range(2023, 2024))\n",
    "rounds_list = [20]\n",
    "\n",
    "def draft(years, rounds_list):\n",
    "    \n",
    "     for year, num_rounds in zip(years, rounds_list):\n",
    "        draftResults = amateur_draft(year, 1)\n",
    "        draftResults_df = pd.DataFrame(draftResults)\n",
    "        draftResults_df[\"round_num\"] = 1\n",
    "        draftResults_df[\"year\"] = year\n",
    "\n",
    "        for round_num in range(2, num_rounds + 1):\n",
    "            temp = amateur_draft(year, round_num)\n",
    "            temp_df = pd.DataFrame(temp)\n",
    "            temp_df['round_num'] = round_num\n",
    "            temp_df['year'] = year\n",
    "            draftResults_df = pd.concat([draftResults_df, temp_df])\n",
    "\n",
    "        draft_results_dict[f'draftResults_{year}'] = draftResults_df  \n",
    "\n",
    "        \n",
    "draft(years, rounds_list)\n",
    "\n",
    "\n",
    "\n"
   ]
  },
  {
   "cell_type": "code",
   "execution_count": null,
   "metadata": {},
   "outputs": [],
   "source": [
    "draft_results_dict.keys()\n"
   ]
  },
  {
   "cell_type": "code",
   "execution_count": null,
   "metadata": {},
   "outputs": [],
   "source": [
    "rounds_list = [72, 63, 77, 71, 90, 60, 48, 46, 52, 41, 37, 40, 42, 48, 44, 44, 44, 47, 50, 51, 39, 49, 74, 75, 87, 99, 96, 50, 91, 98, 87, 100, 92, 50, 50, 50, 50, 50, 50, 50, 50, 50, 50, 50, 50, 50, 50, 40, 40, 40, 40, 40, 40, 40, 40, 5, 20, 20, 20]"
   ]
  },
  {
   "cell_type": "code",
   "execution_count": null,
   "metadata": {},
   "outputs": [],
   "source": [
    "draft_1965 = draft_results_dict['draftResults_1965']\n",
    "draft_1966 = draft_results_dict['draftResults_1966']\n",
    "draft_1967 = draft_results_dict['draftResults_1967']\n",
    "draft_1968 = draft_results_dict['draftResults_1968']\n",
    "draft_1969 = draft_results_dict['draftResults_1969']\n",
    "draft_1970 = draft_results_dict['draftResults_1970']\n",
    "draft_1971 = draft_results_dict['draftResults_1971']\n",
    "draft_1972 = draft_results_dict['draftResults_1972']\n",
    "draft_1973 = draft_results_dict['draftResults_1973']\n",
    "draft_1974 = draft_results_dict['draftResults_1974']\n",
    "draft_1975 = draft_results_dict['draftResults_1975']\n",
    "draft_1976 = draft_results_dict['draftResults_1976']\n",
    "draft_1977 = draft_results_dict['draftResults_1977']\n",
    "draft_1978 = draft_results_dict['draftResults_1978']\n",
    "draft_1979 = draft_results_dict['draftResults_1979']\n",
    "draft_1980 = draft_results_dict['draftResults_1980']\n",
    "draft_1981 = draft_results_dict['draftResults_1981']\n",
    "draft_1982 = draft_results_dict['draftResults_1982']\n",
    "draft_1983 = draft_results_dict['draftResults_1983']\n",
    "draft_1984 = draft_results_dict['draftResults_1984']\n",
    "draft_1985 = draft_results_dict['draftResults_1985']\n",
    "draft_1986 = draft_results_dict['draftResults_1986']\n",
    "draft_1987 = draft_results_dict['draftResults_1987']\n",
    "draft_1988 = draft_results_dict['draftResults_1988']\n",
    "draft_1989 = draft_results_dict['draftResults_1989']\n",
    "draft_1990 = draft_results_dict['draftResults_1990']\n",
    "draft_1991 = draft_results_dict['draftResults_1991']\n",
    "draft_1992 = draft_results_dict['draftResults_1992']\n",
    "draft_1993 = draft_results_dict['draftResults_1993']\n",
    "draft_1994 = draft_results_dict['draftResults_1994']\n",
    "draft_1995 = draft_results_dict['draftResults_1995']\n",
    "draft_1996 = draft_results_dict['draftResults_1996']\n",
    "draft_1997 = draft_results_dict['draftResults_1997']\n",
    "draft_1998 = draft_results_dict['draftResults_1998']\n",
    "draft_1999 = draft_results_dict['draftResults_1999']\n",
    "draft_2000 = draft_results_dict['draftResults_2000']\n",
    "draft_2001 = draft_results_dict['draftResults_2001']\n",
    "draft_2002 = draft_results_dict['draftResults_2002']\n",
    "draft_2003 = draft_results_dict['draftResults_2003']\n",
    "draft_2004 = draft_results_dict['draftResults_2004']\n",
    "draft_2005 = draft_results_dict['draftResults_2005']\n",
    "draft_2006 = draft_results_dict['draftResults_2006']\n",
    "draft_2007 = draft_results_dict['draftResults_2007']\n",
    "draft_2008 = draft_results_dict['draftResults_2008']\n",
    "draft_2009 = draft_results_dict['draftResults_2009']\n",
    "draft_2010 = draft_results_dict['draftResults_2010']\n",
    "draft_2011 = draft_results_dict['draftResults_2011']\n",
    "draft_2012 = draft_results_dict['draftResults_2012']\n",
    "draft_2013 = draft_results_dict['draftResults_2013']\n",
    "draft_2014 = draft_results_dict['draftResults_2014']\n",
    "draft_2015 = draft_results_dict['draftResults_2015']\n",
    "draft_2016 = draft_results_dict['draftResults_2016']\n",
    "draft_2017 = draft_results_dict['draftResults_2017']\n",
    "draft_2018 = draft_results_dict['draftResults_2018']\n",
    "draft_2019 = draft_results_dict['draftResults_2019']\n",
    "draft_2020 = draft_results_dict['draftResults_2020']\n",
    "draft_2021 = draft_results_dict['draftResults_2021']\n",
    "draft_2022 = draft_results_dict['draftResults_2022']\n",
    "draft_2023 = draft_results_dict['draftResults_2023']\n",
    "\n",
    "\n",
    "\n"
   ]
  },
  {
   "cell_type": "code",
   "execution_count": null,
   "metadata": {
    "vscode": {
     "languageId": "javascript"
    }
   },
   "outputs": [],
   "source": [
    "import pandas as pd\n",
    "\n",
    "dfs = [draft_1965, draft_1966, draft_1967, draft_1968, draft_1969, draft_1970, draft_1971, draft_1972, draft_1973, draft_1974, draft_1975, draft_1976, draft_1977, draft_1978, draft_1979, draft_1980, draft_1981, draft_1982, draft_1983, draft_1984, draft_1985, draft_1986, draft_1987, draft_1988, draft_1989, draft_1990, draft_1991, draft_1992, draft_1993, draft_1994, draft_1995, draft_1996, draft_1997, draft_1998, draft_1999, draft_2000, draft_2001, draft_2002, draft_2003, draft_2004, draft_2005, draft_2006, draft_2007, draft_2008, draft_2009, draft_2010, draft_2011, draft_2012, draft_2013, draft_2014, draft_2015, draft_2016, draft_2017, draft_2018, draft_2019, draft_2020, draft_2021, draft_2022, draft_2023]\n",
    "\n",
    "combined_df = pd.concat(dfs)\n",
    "\n",
    "combined_df.reset_index(drop=True, inplace=True)\n",
    "\n",
    "print(combined_df)"
   ]
  },
  {
   "cell_type": "code",
   "execution_count": null,
   "metadata": {
    "vscode": {
     "languageId": "javascript"
    }
   },
   "outputs": [],
   "source": [
    "pd.DataFrame.to_csv(combined_df, 'allyears_draft_data.csv')"
   ]
  },
  {
   "cell_type": "code",
   "execution_count": null,
   "metadata": {
    "vscode": {
     "languageId": "javascript"
    }
   },
   "outputs": [],
   "source": [
    "made_it = combined_df[combined_df['G'] > 0]"
   ]
  },
  {
   "cell_type": "code",
   "execution_count": null,
   "metadata": {
    "vscode": {
     "languageId": "javascript"
    }
   },
   "outputs": [],
   "source": [
    "made_it.head()"
   ]
  },
  {
   "cell_type": "code",
   "execution_count": null,
   "metadata": {
    "vscode": {
     "languageId": "javascript"
    }
   },
   "outputs": [],
   "source": [
    "import pandas as pd\n",
    "\n",
    "dataframes = [one, two, three, four, five, six, seven, eight, nine, ten, eleven, twelve, thirteen, fourteen, fifteen, sixteen, seventeen, eighteen, nineteen, twenty, twentyone, twentytwo, twentythree, twentyfour, twentyfive, twentysix, twentyseven, twentyeight, twentynine]\n",
    "\n",
    "stacked_df = pd.concat(dataframes)\n",
    "\n",
    "stacked_df.reset_index(drop=True, inplace=True)\n",
    "\n",
    "print(stacked_df)"
   ]
  },
  {
   "cell_type": "code",
   "execution_count": null,
   "metadata": {},
   "outputs": [],
   "source": [
    "stacked_df.head()\n"
   ]
  },
  {
   "cell_type": "code",
   "execution_count": null,
   "metadata": {},
   "outputs": [],
   "source": [
    "stacked_df.groupby(\"Drafted Out of\")[\"WAR\"].sum().sort_values(ascending=False)"
   ]
  },
  {
   "cell_type": "code",
   "execution_count": null,
   "metadata": {},
   "outputs": [],
   "source": [
    "fullerton = stacked_df[(stacked_df[\"Drafted Out of\"] == \"University of California, Los Angeles (Los Angeles, CA)\") & (stacked_df[\"WAR\"] > 2)]\n",
    "\n",
    "fullerton = fullerton.sort_values(\"WAR\", ascending=False)\n",
    "\n",
    "fullerton.head(20)\n",
    "\n",
    "\n",
    "import matplotlib.pyplot as plt\n",
    "\n",
    "plt.bar(fullerton[\"Name\"], fullerton[\"WAR\"])\n",
    "plt.xticks(rotation=90, fontsize=8)\n",
    "plt.show()\n"
   ]
  },
  {
   "cell_type": "code",
   "execution_count": null,
   "metadata": {},
   "outputs": [],
   "source": [
    "stacked_df.groupby([\"round_num\", \"year\"])[\"WAR\"].sum().sort_values(ascending=False)\n",
    "\n",
    "test = stacked_df[(stacked_df[\"round_num\"] == 4) & (stacked_df[\"year\"] == 2000)]\n",
    "test = test.sort_values(\"WAR\", ascending=False)\n",
    "\n",
    "plt.bar(test[\"Name\"], test[\"WAR\"])\n",
    "plt.xticks(rotation=90, fontsize=6)\n"
   ]
  },
  {
   "cell_type": "code",
   "execution_count": null,
   "metadata": {},
   "outputs": [],
   "source": [
    "combined_df.groupby([\"Tm\"])[\"WAR\"].sum().sort_values(ascending=False)\n"
   ]
  },
  {
   "cell_type": "code",
   "execution_count": null,
   "metadata": {},
   "outputs": [],
   "source": [
    "pd.set_option('display.max_rows', 200)\n",
    "stacked_df.groupby([\"round_num\", \"year\"])[\"WAR\"].sum().sort_values(ascending=False).head(200)\n"
   ]
  },
  {
   "cell_type": "code",
   "execution_count": null,
   "metadata": {},
   "outputs": [],
   "source": [
    "stacked_df.head()"
   ]
  },
  {
   "cell_type": "code",
   "execution_count": null,
   "metadata": {},
   "outputs": [],
   "source": [
    "from pandas import pivot_table\n",
    "\n",
    "stacked_df['Tm'] = stacked_df['Tm'].str.split(' via').str[0]\n",
    "\n",
    "table = stacked_df.pivot_table(\"WAR\", index = [\"Tm\"], columns = \"round_num\", aggfunc=np.sum)\n",
    "print(table)\n",
    "\n",
    "table.min()\n",
    "\n",
    "### Next up - clean up the table to merge like teams. We will want to drop some columns too."
   ]
  },
  {
   "cell_type": "code",
   "execution_count": null,
   "metadata": {},
   "outputs": [],
   "source": [
    "# Use combined_df, but we still need to clean up the team names (via...)\n",
    "\n",
    "import numpy as np\n",
    "\n",
    "combined_df.head()\n",
    "combined_df['Tm'] = combined_df['Tm'].str.split(' via').str[0]\n",
    "\n"
   ]
  },
  {
   "cell_type": "code",
   "execution_count": null,
   "metadata": {},
   "outputs": [],
   "source": [
    "### get rid of minors\n",
    "\n",
    "\n",
    "combined_df_goodteams = combined_df[(combined_df[\"Tm\"] != \"Bend (minors)\") & (combined_df[\"Tm\"] != \"Boise (minors)\") & (combined_df[\"Tm\"] != \"Miami Miracle\") & (combined_df[\"Tm\"] != \"ERI\")]"
   ]
  },
  {
   "cell_type": "code",
   "execution_count": null,
   "metadata": {},
   "outputs": [],
   "source": [
    "### Combine team names\n",
    "combined_df_goodteams[\"Tm\"] = combined_df_goodteams[\"Tm\"].replace(\"D'backs\", \"Diamondbacks\")\n",
    "combined_df_goodteams[\"Tm\"] = combined_df_goodteams[\"Tm\"].replace(\"Pilots\", \"Brewers\")\n",
    "combined_df_goodteams[\"Tm\"] = combined_df_goodteams[\"Tm\"].replace(\"Devil Rays\", \"Rays\")\n",
    "combined_df_goodteams[\"Tm\"] = combined_df_goodteams[\"Tm\"].replace(\"Guardians\", \"Indians\")\n",
    "combined_df_goodteams[\"Tm\"] = combined_df_goodteams[\"Tm\"].replace(\"Expos\", \"Nationals\")\n",
    "combined_df_goodteams[\"Tm\"] = combined_df_goodteams[\"Tm\"].replace(\"Senators\", \"Rangers\")\n",
    "combined_df_goodteams[\"Tm\"].unique()\n"
   ]
  },
  {
   "cell_type": "code",
   "execution_count": null,
   "metadata": {},
   "outputs": [],
   "source": [
    "combined_df_goodteams[\"Tm\"].dropna()"
   ]
  },
  {
   "cell_type": "code",
   "execution_count": null,
   "metadata": {},
   "outputs": [],
   "source": [
    "combined_df_goodteams.to_csv(\"allyears_draft_data.csv\")"
   ]
  },
  {
   "cell_type": "code",
   "execution_count": null,
   "metadata": {},
   "outputs": [],
   "source": [
    "### Only those who signed\n",
    "signed = combined_df_goodteams[(combined_df_goodteams[\"Signed\"] == \"Y\")]"
   ]
  },
  {
   "cell_type": "code",
   "execution_count": null,
   "metadata": {},
   "outputs": [],
   "source": [
    "signed.to_csv(\"allyears_draft_data_signed.csv\")"
   ]
  },
  {
   "cell_type": "code",
   "execution_count": null,
   "metadata": {},
   "outputs": [],
   "source": [
    "tigers = signed[(signed[\"Tm\"] == \"Tigers\")]\n",
    "tigers_last15yr = tigers[(tigers[\"year\"] > 2003)]\n",
    "\n",
    "guardians = signed[(signed[\"Tm\"] == \"Indians\")]\n",
    "guardians_last15yr = guardians[(guardians[\"year\"] > 2003)]\n"
   ]
  },
  {
   "cell_type": "code",
   "execution_count": null,
   "metadata": {},
   "outputs": [],
   "source": [
    "\n",
    "tigers_last15yr.groupby(\"year\")[\"WAR\"].sum().sort_values(ascending=False)\n",
    "tigers_last15yr.groupby(\"year\")[\"WAR\"].sum().sort_values(ascending=False).plot(kind='bar').set_ylabel(\"WAR\")\n",
    "\n",
    "\n"
   ]
  },
  {
   "cell_type": "code",
   "execution_count": null,
   "metadata": {},
   "outputs": [],
   "source": [
    "guardians_last15yr.groupby(\"year\")[\"WAR\"].sum().sort_values(ascending=False).plot(kind='bar').set_ylabel(\"WAR\")"
   ]
  },
  {
   "cell_type": "code",
   "execution_count": null,
   "metadata": {},
   "outputs": [],
   "source": [
    "from matplotlib import pyplot as plt\n",
    "seventysix = tigers[(tigers[\"year\"] == 1975) & (tigers[\"WAR\"] > 1)]\n",
    "\n",
    "\n",
    "plt.bar(seventysix[\"Name\"], seventysix[\"WAR\"])\n",
    "plt.xticks(rotation=90, fontsize=6)"
   ]
  },
  {
   "cell_type": "code",
   "execution_count": null,
   "metadata": {},
   "outputs": [],
   "source": [
    "tigers[tigers[\"year\"] == 2005].sort_values(\"WAR\", ascending=False)"
   ]
  },
  {
   "cell_type": "code",
   "execution_count": null,
   "metadata": {},
   "outputs": [],
   "source": [
    "recent = signed[(signed[\"year\"] > 2004)]\n",
    "recent.groupby(\"Tm\")[\"WAR\"].sum().sort_values(ascending=False)"
   ]
  },
  {
   "cell_type": "code",
   "execution_count": null,
   "metadata": {},
   "outputs": [],
   "source": [
    "recent = signed[(signed[\"year\"] > 2004)]\n",
    "recent.groupby(\"Tm\")[\"WAR\"].sum().sort_values(ascending=False)\n",
    "diamondbacks = signed[(signed[\"Tm\"] == \"Diamondbacks\") & (signed[\"WAR\"] > 1) & (signed[\"year\"] > 2004)].sort_values(\"WAR\", ascending=False)\n",
    "\n",
    "plt.bar(diamondbacks[\"Name\"], diamondbacks[\"WAR\"])\n",
    "plt.xticks(rotation=90, fontsize=6)\n"
   ]
  },
  {
   "cell_type": "code",
   "execution_count": null,
   "metadata": {},
   "outputs": [],
   "source": [
    "plot = recent.groupby(\"Tm\")[\"WAR\"].sum().sort_values(ascending=False).reset_index()\n",
    "\n",
    "plt.bar(plot[\"Tm\"], plot[\"WAR\"])\n",
    "plt.xlabel(\"Team\")\n",
    "plt.ylabel(\"WAR\")\n",
    "plt.xticks(rotation=90, fontsize=7)\n",
    "plt.title(\"WAR by Team that Drafted the Player since 2005\")"
   ]
  },
  {
   "cell_type": "code",
   "execution_count": null,
   "metadata": {},
   "outputs": [],
   "source": [
    "recent2 = recent[recent[\"round_num\"] > 4]\n",
    "plot2 = recent2.groupby(\"Tm\")[\"WAR\"].sum().sort_values(ascending=False).reset_index()\n",
    "\n",
    "plt.bar(plot2[\"Tm\"], plot2[\"WAR\"])\n",
    "plt.xlabel(\"Team\")\n",
    "plt.ylabel(\"WAR\")\n",
    "plt.xticks(rotation=90, fontsize=7)\n",
    "plt.title(\"WAR by Team that Drafted the Player since 2005 (Rounds 5 and later)\")"
   ]
  },
  {
   "cell_type": "code",
   "execution_count": null,
   "metadata": {},
   "outputs": [],
   "source": [
    "### Plot players based on year and team (function)\n"
   ]
  },
  {
   "cell_type": "code",
   "execution_count": null,
   "metadata": {},
   "outputs": [],
   "source": [
    "rsox = signed[(signed[\"Tm\"] == \"Red Sox\") & (signed[\"round_num\"] > 4) & (signed[\"year\"] > 2004)] "
   ]
  },
  {
   "cell_type": "code",
   "execution_count": null,
   "metadata": {},
   "outputs": [],
   "source": [
    "rsox.sort_values(\"WAR\", ascending=False)"
   ]
  },
  {
   "cell_type": "code",
   "execution_count": 3,
   "metadata": {},
   "outputs": [],
   "source": [
    "import pandas as pd\n",
    "import matplotlib.pyplot as plt\n",
    "all = pd.read_csv(\"allyears_draft_data_signed.csv\")"
   ]
  },
  {
   "cell_type": "code",
   "execution_count": 4,
   "metadata": {},
   "outputs": [],
   "source": [
    "signed = all.copy()\n",
    "\n"
   ]
  },
  {
   "cell_type": "code",
   "execution_count": null,
   "metadata": {},
   "outputs": [],
   "source": [
    "import matplotlib.pyplot as plt\n",
    "\n",
    "signed = signed[(signed[\"round_num\"] < 15) & (signed[\"year\"] > 1999)]\n",
    "ax = signed.groupby(\"round_num\")[\"WAR\"].sum().sort_values(ascending=False).plot(kind='bar')\n",
    "ax.set_ylabel(\"WAR\")\n",
    "ax.set_title(\"WAR by Round\")\n",
    "plt.show()\n",
    "\n"
   ]
  },
  {
   "cell_type": "code",
   "execution_count": 38,
   "metadata": {},
   "outputs": [
    {
     "data": {
      "text/plain": [
       "Type\n",
       "4Yr    713.7\n",
       "HS     200.4\n",
       "JC       8.9\n",
       "Name: WAR, dtype: float64"
      ]
     },
     "execution_count": 38,
     "metadata": {},
     "output_type": "execute_result"
    }
   ],
   "source": [
    "all2 = all[all['year'] > 2015]\n",
    "\n",
    "all2.groupby(\"Type\")['WAR'].sum().sort_values(ascending=False)\n",
    "\n",
    "\n"
   ]
  },
  {
   "cell_type": "code",
   "execution_count": 35,
   "metadata": {},
   "outputs": [
    {
     "data": {
      "image/png": "[encoded data removed]",
      "text/plain": [
       "<Figure size 640x480 with 1 Axes>"
      ]
     },
     "metadata": {},
     "output_type": "display_data"
    }
   ],
   "source": [
    "### Simple cell to plot WAR by round within a university. Write a function next\n",
    "\n",
    "import pandas as pd\n",
    "import matplotlib.pyplot as plt\n",
    "all = pd.read_csv(\"allyears_draft_data_signed.csv\")\n",
    "\n",
    "fullerton = all[(all[\"Drafted Out of\"] == \"Arizona State University (Tempe, AZ)\") & (all[\"WAR\"] > 2)]\n",
    "\n",
    "fullerton = fullerton.sort_values(\"WAR\", ascending=False)\n",
    "\n",
    "import matplotlib.pyplot as plt\n",
    "\n",
    "plt.bar(fullerton[\"Name\"], fullerton[\"WAR\"])\n",
    "plt.xticks(rotation=90, fontsize=8)\n",
    "plt.show()"
   ]
  }
 ],
 "metadata": {
  "kernelspec": {
   "display_name": "Kyle",
   "language": "python",
   "name": "python3"
  },
  "language_info": {
   "codemirror_mode": {
    "name": "ipython",
    "version": 3
   },
   "file_extension": ".py",
   "mimetype": "text/x-python",
   "name": "python",
   "nbconvert_exporter": "python",
   "pygments_lexer": "ipython3",
   "version": "3.11.8"
  }
 },
 "nbformat": 4,
 "nbformat_minor": 2
}
