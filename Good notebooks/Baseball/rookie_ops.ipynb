{
 "cells": [
  {
   "cell_type": "code",
   "execution_count": null,
   "metadata": {},
   "outputs": [],
   "source": [
    "# Importing the necessary libraries\n",
    "import pybaseball as pyb\n",
    "import numpy as np\n",
    "import pandas as pd"
   ]
  },
  {
   "cell_type": "code",
   "execution_count": null,
   "metadata": {},
   "outputs": [],
   "source": [
    "### Importing all drafts prior to 2012 when they changed to forty rounds.\n",
    "\n",
    "import pandas as pd\n",
    "import pybaseball as pyb\n",
    "from pybaseball import amateur_draft\n",
    "\n",
    "years = list(range(2023, 2024))\n",
    "rounds_list = [20]\n",
    "\n",
    "def draft(years, rounds_list):\n",
    "    \n",
    "     for year, num_rounds in zip(years, rounds_list):\n",
    "        draftResults = amateur_draft(year, 1)\n",
    "        draftResults_df = pd.DataFrame(draftResults)\n",
    "        draftResults_df[\"round_num\"] = 1\n",
    "        draftResults_df[\"year\"] = year\n",
    "\n",
    "        for round_num in range(2, num_rounds + 1):\n",
    "            temp = amateur_draft(year, round_num)\n",
    "            temp_df = pd.DataFrame(temp)\n",
    "            temp_df['round_num'] = round_num\n",
    "            temp_df['year'] = year\n",
    "            draftResults_df = pd.concat([draftResults_df, temp_df])\n",
    "\n",
    "        draft_results_dict[f'draftResults_{year}'] = draftResults_df  \n",
    "\n",
    "        \n",
    "draft(years, rounds_list)\n",
    "\n",
    "\n",
    "\n"
   ]
  },
  {
   "cell_type": "code",
   "execution_count": null,
   "metadata": {},
   "outputs": [],
   "source": [
    "draft_results_dict.keys()\n"
   ]
  },
  {
   "cell_type": "code",
   "execution_count": null,
   "metadata": {},
   "outputs": [],
   "source": [
    "rounds_list = [72, 63, 77, 71, 90, 60, 48, 46, 52, 41, 37, 40, 42, 48, 44, 44, 44, 47, 50, 51, 39, 49, 74, 75, 87, 99, 96, 50, 91, 98, 87, 100, 92, 50, 50, 50, 50, 50, 50, 50, 50, 50, 50, 50, 50, 50, 50, 40, 40, 40, 40, 40, 40, 40, 40, 5, 20, 20, 20]"
   ]
  },
  {
   "cell_type": "code",
   "execution_count": null,
   "metadata": {},
   "outputs": [],
   "source": [
    "draft_1965 = draft_results_dict['draftResults_1965']\n",
    "draft_1966 = draft_results_dict['draftResults_1966']\n",
    "draft_1967 = draft_results_dict['draftResults_1967']\n",
    "draft_1968 = draft_results_dict['draftResults_1968']\n",
    "draft_1969 = draft_results_dict['draftResults_1969']\n",
    "draft_1970 = draft_results_dict['draftResults_1970']\n",
    "draft_1971 = draft_results_dict['draftResults_1971']\n",
    "draft_1972 = draft_results_dict['draftResults_1972']\n",
    "draft_1973 = draft_results_dict['draftResults_1973']\n",
    "draft_1974 = draft_results_dict['draftResults_1974']\n",
    "draft_1975 = draft_results_dict['draftResults_1975']\n",
    "draft_1976 = draft_results_dict['draftResults_1976']\n",
    "draft_1977 = draft_results_dict['draftResults_1977']\n",
    "draft_1978 = draft_results_dict['draftResults_1978']\n",
    "draft_1979 = draft_results_dict['draftResults_1979']\n",
    "draft_1980 = draft_results_dict['draftResults_1980']\n",
    "draft_1981 = draft_results_dict['draftResults_1981']\n",
    "draft_1982 = draft_results_dict['draftResults_1982']\n",
    "draft_1983 = draft_results_dict['draftResults_1983']\n",
    "draft_1984 = draft_results_dict['draftResults_1984']\n",
    "draft_1985 = draft_results_dict['draftResults_1985']\n",
    "draft_1986 = draft_results_dict['draftResults_1986']\n",
    "draft_1987 = draft_results_dict['draftResults_1987']\n",
    "draft_1988 = draft_results_dict['draftResults_1988']\n",
    "draft_1989 = draft_results_dict['draftResults_1989']\n",
    "draft_1990 = draft_results_dict['draftResults_1990']\n",
    "draft_1991 = draft_results_dict['draftResults_1991']\n",
    "draft_1992 = draft_results_dict['draftResults_1992']\n",
    "draft_1993 = draft_results_dict['draftResults_1993']\n",
    "draft_1994 = draft_results_dict['draftResults_1994']\n",
    "draft_1995 = draft_results_dict['draftResults_1995']\n",
    "draft_1996 = draft_results_dict['draftResults_1996']\n",
    "draft_1997 = draft_results_dict['draftResults_1997']\n",
    "draft_1998 = draft_results_dict['draftResults_1998']\n",
    "draft_1999 = draft_results_dict['draftResults_1999']\n",
    "draft_2000 = draft_results_dict['draftResults_2000']\n",
    "draft_2001 = draft_results_dict['draftResults_2001']\n",
    "draft_2002 = draft_results_dict['draftResults_2002']\n",
    "draft_2003 = draft_results_dict['draftResults_2003']\n",
    "draft_2004 = draft_results_dict['draftResults_2004']\n",
    "draft_2005 = draft_results_dict['draftResults_2005']\n",
    "draft_2006 = draft_results_dict['draftResults_2006']\n",
    "draft_2007 = draft_results_dict['draftResults_2007']\n",
    "draft_2008 = draft_results_dict['draftResults_2008']\n",
    "draft_2009 = draft_results_dict['draftResults_2009']\n",
    "draft_2010 = draft_results_dict['draftResults_2010']\n",
    "draft_2011 = draft_results_dict['draftResults_2011']\n",
    "draft_2012 = draft_results_dict['draftResults_2012']\n",
    "draft_2013 = draft_results_dict['draftResults_2013']\n",
    "draft_2014 = draft_results_dict['draftResults_2014']\n",
    "draft_2015 = draft_results_dict['draftResults_2015']\n",
    "draft_2016 = draft_results_dict['draftResults_2016']\n",
    "draft_2017 = draft_results_dict['draftResults_2017']\n",
    "draft_2018 = draft_results_dict['draftResults_2018']\n",
    "draft_2019 = draft_results_dict['draftResults_2019']\n",
    "draft_2020 = draft_results_dict['draftResults_2020']\n",
    "draft_2021 = draft_results_dict['draftResults_2021']\n",
    "draft_2022 = draft_results_dict['draftResults_2022']\n",
    "draft_2023 = draft_results_dict['draftResults_2023']\n",
    "\n",
    "\n",
    "\n"
   ]
  },
  {
   "cell_type": "code",
   "execution_count": null,
   "metadata": {
    "vscode": {
     "languageId": "javascript"
    }
   },
   "outputs": [],
   "source": [
    "import pandas as pd\n",
    "\n",
    "dfs = [draft_1965, draft_1966, draft_1967, draft_1968, draft_1969, draft_1970, draft_1971, draft_1972, draft_1973, draft_1974, draft_1975, draft_1976, draft_1977, draft_1978, draft_1979, draft_1980, draft_1981, draft_1982, draft_1983, draft_1984, draft_1985, draft_1986, draft_1987, draft_1988, draft_1989, draft_1990, draft_1991, draft_1992, draft_1993, draft_1994, draft_1995, draft_1996, draft_1997, draft_1998, draft_1999, draft_2000, draft_2001, draft_2002, draft_2003, draft_2004, draft_2005, draft_2006, draft_2007, draft_2008, draft_2009, draft_2010, draft_2011, draft_2012, draft_2013, draft_2014, draft_2015, draft_2016, draft_2017, draft_2018, draft_2019, draft_2020, draft_2021, draft_2022, draft_2023]\n",
    "\n",
    "combined_df = pd.concat(dfs)\n",
    "\n",
    "combined_df.reset_index(drop=True, inplace=True)\n",
    "\n",
    "print(combined_df)"
   ]
  },
  {
   "cell_type": "code",
   "execution_count": null,
   "metadata": {
    "vscode": {
     "languageId": "javascript"
    }
   },
   "outputs": [],
   "source": [
    "pd.DataFrame.to_csv(combined_df, 'allyears_draft_data.csv')"
   ]
  },
  {
   "cell_type": "code",
   "execution_count": null,
   "metadata": {
    "vscode": {
     "languageId": "javascript"
    }
   },
   "outputs": [],
   "source": [
    "made_it = combined_df[combined_df['G'] > 0]"
   ]
  },
  {
   "cell_type": "code",
   "execution_count": null,
   "metadata": {
    "vscode": {
     "languageId": "javascript"
    }
   },
   "outputs": [],
   "source": [
    "made_it.head()"
   ]
  },
  {
   "cell_type": "code",
   "execution_count": null,
   "metadata": {
    "vscode": {
     "languageId": "javascript"
    }
   },
   "outputs": [],
   "source": [
    "import pandas as pd\n",
    "\n",
    "dataframes = [one, two, three, four, five, six, seven, eight, nine, ten, eleven, twelve, thirteen, fourteen, fifteen, sixteen, seventeen, eighteen, nineteen, twenty, twentyone, twentytwo, twentythree, twentyfour, twentyfive, twentysix, twentyseven, twentyeight, twentynine]\n",
    "\n",
    "stacked_df = pd.concat(dataframes)\n",
    "\n",
    "stacked_df.reset_index(drop=True, inplace=True)\n",
    "\n",
    "print(stacked_df)"
   ]
  },
  {
   "cell_type": "code",
   "execution_count": null,
   "metadata": {},
   "outputs": [],
   "source": [
    "stacked_df.head()\n"
   ]
  },
  {
   "cell_type": "code",
   "execution_count": null,
   "metadata": {},
   "outputs": [],
   "source": [
    "stacked_df.groupby(\"Drafted Out of\")[\"WAR\"].sum().sort_values(ascending=False)"
   ]
  },
  {
   "cell_type": "code",
   "execution_count": null,
   "metadata": {},
   "outputs": [],
   "source": [
    "fullerton = stacked_df[(stacked_df[\"Drafted Out of\"] == \"University of California, Los Angeles (Los Angeles, CA)\") & (stacked_df[\"WAR\"] > 2)]\n",
    "\n",
    "fullerton = fullerton.sort_values(\"WAR\", ascending=False)\n",
    "\n",
    "fullerton.head(20)\n",
    "\n",
    "\n",
    "import matplotlib.pyplot as plt\n",
    "\n",
    "plt.bar(fullerton[\"Name\"], fullerton[\"WAR\"])\n",
    "plt.xticks(rotation=90, fontsize=8)\n",
    "plt.show()\n"
   ]
  },
  {
   "cell_type": "code",
   "execution_count": null,
   "metadata": {},
   "outputs": [],
   "source": [
    "stacked_df.groupby([\"round_num\", \"year\"])[\"WAR\"].sum().sort_values(ascending=False)\n",
    "\n",
    "test = stacked_df[(stacked_df[\"round_num\"] == 4) & (stacked_df[\"year\"] == 2000)]\n",
    "test = test.sort_values(\"WAR\", ascending=False)\n",
    "\n",
    "plt.bar(test[\"Name\"], test[\"WAR\"])\n",
    "plt.xticks(rotation=90, fontsize=6)\n"
   ]
  },
  {
   "cell_type": "code",
   "execution_count": null,
   "metadata": {},
   "outputs": [],
   "source": [
    "combined_df.groupby([\"Tm\"])[\"WAR\"].sum().sort_values(ascending=False)\n"
   ]
  },
  {
   "cell_type": "code",
   "execution_count": null,
   "metadata": {},
   "outputs": [],
   "source": [
    "pd.set_option('display.max_rows', 200)\n",
    "stacked_df.groupby([\"round_num\", \"year\"])[\"WAR\"].sum().sort_values(ascending=False).head(200)\n"
   ]
  },
  {
   "cell_type": "code",
   "execution_count": null,
   "metadata": {},
   "outputs": [],
   "source": [
    "stacked_df.head()"
   ]
  },
  {
   "cell_type": "code",
   "execution_count": null,
   "metadata": {},
   "outputs": [],
   "source": [
    "from pandas import pivot_table\n",
    "\n",
    "stacked_df['Tm'] = stacked_df['Tm'].str.split(' via').str[0]\n",
    "\n",
    "table = stacked_df.pivot_table(\"WAR\", index = [\"Tm\"], columns = \"round_num\", aggfunc=np.sum)\n",
    "print(table)\n",
    "\n",
    "table.min()\n",
    "\n",
    "### Next up - clean up the table to merge like teams. We will want to drop some columns too."
   ]
  },
  {
   "cell_type": "code",
   "execution_count": null,
   "metadata": {},
   "outputs": [],
   "source": [
    "# Use combined_df, but we still need to clean up the team names (via...)\n",
    "\n",
    "import numpy as np\n",
    "\n",
    "combined_df.head()\n",
    "combined_df['Tm'] = combined_df['Tm'].str.split(' via').str[0]\n",
    "\n"
   ]
  },
  {
   "cell_type": "code",
   "execution_count": null,
   "metadata": {},
   "outputs": [],
   "source": [
    "### get rid of minors\n",
    "\n",
    "\n",
    "combined_df_goodteams = combined_df[(combined_df[\"Tm\"] != \"Bend (minors)\") & (combined_df[\"Tm\"] != \"Boise (minors)\") & (combined_df[\"Tm\"] != \"Miami Miracle\") & (combined_df[\"Tm\"] != \"ERI\")]"
   ]
  },
  {
   "cell_type": "code",
   "execution_count": null,
   "metadata": {},
   "outputs": [],
   "source": [
    "### Combine team names\n",
    "combined_df_goodteams[\"Tm\"] = combined_df_goodteams[\"Tm\"].replace(\"D'backs\", \"Diamondbacks\")\n",
    "combined_df_goodteams[\"Tm\"] = combined_df_goodteams[\"Tm\"].replace(\"Pilots\", \"Brewers\")\n",
    "combined_df_goodteams[\"Tm\"] = combined_df_goodteams[\"Tm\"].replace(\"Devil Rays\", \"Rays\")\n",
    "combined_df_goodteams[\"Tm\"] = combined_df_goodteams[\"Tm\"].replace(\"Guardians\", \"Indians\")\n",
    "combined_df_goodteams[\"Tm\"] = combined_df_goodteams[\"Tm\"].replace(\"Expos\", \"Nationals\")\n",
    "combined_df_goodteams[\"Tm\"] = combined_df_goodteams[\"Tm\"].replace(\"Senators\", \"Rangers\")\n",
    "combined_df_goodteams[\"Tm\"].unique()\n"
   ]
  },
  {
   "cell_type": "code",
   "execution_count": null,
   "metadata": {},
   "outputs": [],
   "source": [
    "combined_df_goodteams[\"Tm\"].dropna()"
   ]
  },
  {
   "cell_type": "code",
   "execution_count": null,
   "metadata": {},
   "outputs": [],
   "source": [
    "combined_df_goodteams.to_csv(\"allyears_draft_data.csv\")"
   ]
  },
  {
   "cell_type": "code",
   "execution_count": null,
   "metadata": {},
   "outputs": [],
   "source": [
    "### Only those who signed\n",
    "signed = combined_df_goodteams[(combined_df_goodteams[\"Signed\"] == \"Y\")]"
   ]
  },
  {
   "cell_type": "code",
   "execution_count": null,
   "metadata": {},
   "outputs": [],
   "source": [
    "signed.to_csv(\"allyears_draft_data_signed.csv\")"
   ]
  },
  {
   "cell_type": "code",
   "execution_count": null,
   "metadata": {},
   "outputs": [],
   "source": [
    "tigers = signed[(signed[\"Tm\"] == \"Tigers\")]\n",
    "tigers_last15yr = tigers[(tigers[\"year\"] > 2003)]\n",
    "\n",
    "guardians = signed[(signed[\"Tm\"] == \"Indians\")]\n",
    "guardians_last15yr = guardians[(guardians[\"year\"] > 2003)]\n"
   ]
  },
  {
   "cell_type": "code",
   "execution_count": null,
   "metadata": {},
   "outputs": [],
   "source": [
    "\n",
    "tigers_last15yr.groupby(\"year\")[\"WAR\"].sum().sort_values(ascending=False)\n",
    "tigers_last15yr.groupby(\"year\")[\"WAR\"].sum().sort_values(ascending=False).plot(kind='bar').set_ylabel(\"WAR\")\n",
    "\n",
    "\n"
   ]
  },
  {
   "cell_type": "code",
   "execution_count": null,
   "metadata": {},
   "outputs": [],
   "source": [
    "guardians_last15yr.groupby(\"year\")[\"WAR\"].sum().sort_values(ascending=False).plot(kind='bar').set_ylabel(\"WAR\")"
   ]
  },
  {
   "cell_type": "code",
   "execution_count": null,
   "metadata": {},
   "outputs": [],
   "source": [
    "from matplotlib import pyplot as plt\n",
    "seventysix = tigers[(tigers[\"year\"] == 1975) & (tigers[\"WAR\"] > 1)]\n",
    "\n",
    "\n",
    "plt.bar(seventysix[\"Name\"], seventysix[\"WAR\"])\n",
    "plt.xticks(rotation=90, fontsize=6)"
   ]
  },
  {
   "cell_type": "code",
   "execution_count": null,
   "metadata": {},
   "outputs": [],
   "source": [
    "tigers[tigers[\"year\"] == 2005].sort_values(\"WAR\", ascending=False)"
   ]
  },
  {
   "cell_type": "code",
   "execution_count": null,
   "metadata": {},
   "outputs": [],
   "source": [
    "recent = signed[(signed[\"year\"] > 2004)]\n",
    "recent.groupby(\"Tm\")[\"WAR\"].sum().sort_values(ascending=False)"
   ]
  },
  {
   "cell_type": "code",
   "execution_count": null,
   "metadata": {},
   "outputs": [],
   "source": [
    "recent = signed[(signed[\"year\"] > 2004)]\n",
    "recent.groupby(\"Tm\")[\"WAR\"].sum().sort_values(ascending=False)\n",
    "diamondbacks = signed[(signed[\"Tm\"] == \"Diamondbacks\") & (signed[\"WAR\"] > 1) & (signed[\"year\"] > 2004)].sort_values(\"WAR\", ascending=False)\n",
    "\n",
    "plt.bar(diamondbacks[\"Name\"], diamondbacks[\"WAR\"])\n",
    "plt.xticks(rotation=90, fontsize=6)\n"
   ]
  },
  {
   "cell_type": "code",
   "execution_count": 195,
   "metadata": {},
   "outputs": [
    {
     "data": {
      "text/plain": [
       "Text(0.5, 1.0, 'WAR by Team that Drafted the Player since 2005')"
      ]
     },
     "execution_count": 195,
     "metadata": {},
     "output_type": "execute_result"
    },
    {
     "data": {
      "image/png": "[encoded data removed]",
      "text/plain": [
       "<Figure size 640x480 with 1 Axes>"
      ]
     },
     "metadata": {},
     "output_type": "display_data"
    }
   ],
   "source": [
    "plot = recent.groupby(\"Tm\")[\"WAR\"].sum().sort_values(ascending=False).reset_index()\n",
    "\n",
    "plt.bar(plot[\"Tm\"], plot[\"WAR\"])\n",
    "plt.xlabel(\"Team\")\n",
    "plt.ylabel(\"WAR\")\n",
    "plt.xticks(rotation=90, fontsize=7)\n",
    "plt.title(\"WAR by Team that Drafted the Player since 2005\")"
   ]
  },
  {
   "cell_type": "code",
   "execution_count": 196,
   "metadata": {},
   "outputs": [
    {
     "data": {
      "text/plain": [
       "Text(0.5, 1.0, 'WAR by Team that Drafted the Player since 2005 (Rounds 5 and later)')"
      ]
     },
     "execution_count": 196,
     "metadata": {},
     "output_type": "execute_result"
    },
    {
     "data": {
      "image/png": "[encoded data removed]",
      "text/plain": [
       "<Figure size 640x480 with 1 Axes>"
      ]
     },
     "metadata": {},
     "output_type": "display_data"
    }
   ],
   "source": [
    "recent2 = recent[recent[\"round_num\"] > 4]\n",
    "plot2 = recent2.groupby(\"Tm\")[\"WAR\"].sum().sort_values(ascending=False).reset_index()\n",
    "\n",
    "plt.bar(plot2[\"Tm\"], plot2[\"WAR\"])\n",
    "plt.xlabel(\"Team\")\n",
    "plt.ylabel(\"WAR\")\n",
    "plt.xticks(rotation=90, fontsize=7)\n",
    "plt.title(\"WAR by Team that Drafted the Player since 2005 (Rounds 5 and later)\")"
   ]
  },
  {
   "cell_type": "code",
   "execution_count": null,
   "metadata": {},
   "outputs": [],
   "source": [
    "### Plot players based on year and team (function)\n"
   ]
  },
  {
   "cell_type": "code",
   "execution_count": 197,
   "metadata": {},
   "outputs": [],
   "source": [
    "rsox = signed[(signed[\"Tm\"] == \"Red Sox\") & (signed[\"round_num\"] > 4) & (signed[\"year\"] > 2004)] "
   ]
  },
  {
   "cell_type": "code",
   "execution_count": 198,
   "metadata": {},
   "outputs": [
    {
     "data": {
      "text/html": [
       "<div>\n",
       "<style scoped>\n",
       "    .dataframe tbody tr th:only-of-type {\n",
       "        vertical-align: middle;\n",
       "    }\n",
       "\n",
       "    .dataframe tbody tr th {\n",
       "        vertical-align: top;\n",
       "    }\n",
       "\n",
       "    .dataframe thead th {\n",
       "        text-align: right;\n",
       "    }\n",
       "</style>\n",
       "<table border=\"1\" class=\"dataframe\">\n",
       "  <thead>\n",
       "    <tr style=\"text-align: right;\">\n",
       "      <th></th>\n",
       "      <th>OvPck</th>\n",
       "      <th>Tm</th>\n",
       "      <th>Signed</th>\n",
       "      <th>Bonus</th>\n",
       "      <th>Name</th>\n",
       "      <th>Pos</th>\n",
       "      <th>WAR</th>\n",
       "      <th>G</th>\n",
       "      <th>AB</th>\n",
       "      <th>HR</th>\n",
       "      <th>...</th>\n",
       "      <th>G.1</th>\n",
       "      <th>W</th>\n",
       "      <th>L</th>\n",
       "      <th>ERA</th>\n",
       "      <th>WHIP</th>\n",
       "      <th>SV</th>\n",
       "      <th>Type</th>\n",
       "      <th>Drafted Out of</th>\n",
       "      <th>round_num</th>\n",
       "      <th>year</th>\n",
       "    </tr>\n",
       "  </thead>\n",
       "  <tbody>\n",
       "    <tr>\n",
       "      <th>54870</th>\n",
       "      <td>172</td>\n",
       "      <td>Red Sox</td>\n",
       "      <td>Y</td>\n",
       "      <td>$750,000</td>\n",
       "      <td>Mookie Betts</td>\n",
       "      <td>SS</td>\n",
       "      <td>68.8</td>\n",
       "      <td>1337.0</td>\n",
       "      <td>5327.0</td>\n",
       "      <td>262.0</td>\n",
       "      <td>...</td>\n",
       "      <td>NaN</td>\n",
       "      <td>NaN</td>\n",
       "      <td>NaN</td>\n",
       "      <td>NaN</td>\n",
       "      <td>NaN</td>\n",
       "      <td>NaN</td>\n",
       "      <td>HS</td>\n",
       "      <td>Overton HS (Nashville, TN)</td>\n",
       "      <td>5</td>\n",
       "      <td>2011</td>\n",
       "    </tr>\n",
       "    <tr>\n",
       "      <th>48899</th>\n",
       "      <td>204</td>\n",
       "      <td>Red Sox</td>\n",
       "      <td>Y</td>\n",
       "      <td>$325,000</td>\n",
       "      <td>Anthony Rizzo</td>\n",
       "      <td>1B</td>\n",
       "      <td>39.1</td>\n",
       "      <td>1705.0</td>\n",
       "      <td>6215.0</td>\n",
       "      <td>303.0</td>\n",
       "      <td>...</td>\n",
       "      <td>2.0</td>\n",
       "      <td>0.0</td>\n",
       "      <td>0.0</td>\n",
       "      <td>0.00</td>\n",
       "      <td>1.00</td>\n",
       "      <td>0.0</td>\n",
       "      <td>HS</td>\n",
       "      <td>Marjory Stoneman Douglas HS (Parkland, FL)</td>\n",
       "      <td>6</td>\n",
       "      <td>2007</td>\n",
       "    </tr>\n",
       "    <tr>\n",
       "      <th>47716</th>\n",
       "      <td>523</td>\n",
       "      <td>Red Sox</td>\n",
       "      <td>Y</td>\n",
       "      <td>$140,000</td>\n",
       "      <td>Josh Reddick</td>\n",
       "      <td>OF</td>\n",
       "      <td>24.7</td>\n",
       "      <td>1305.0</td>\n",
       "      <td>4408.0</td>\n",
       "      <td>146.0</td>\n",
       "      <td>...</td>\n",
       "      <td>1.0</td>\n",
       "      <td>0.0</td>\n",
       "      <td>0.0</td>\n",
       "      <td>13.50</td>\n",
       "      <td>4.50</td>\n",
       "      <td>0.0</td>\n",
       "      <td>JC</td>\n",
       "      <td>Middle Georgia State University (Macon, GA)</td>\n",
       "      <td>17</td>\n",
       "      <td>2006</td>\n",
       "    </tr>\n",
       "    <tr>\n",
       "      <th>49049</th>\n",
       "      <td>354</td>\n",
       "      <td>Red Sox</td>\n",
       "      <td>Y</td>\n",
       "      <td>NaN</td>\n",
       "      <td>Ryan Pressly</td>\n",
       "      <td>RHP</td>\n",
       "      <td>9.9</td>\n",
       "      <td>36.0</td>\n",
       "      <td>0.0</td>\n",
       "      <td>0.0</td>\n",
       "      <td>...</td>\n",
       "      <td>605.0</td>\n",
       "      <td>33.0</td>\n",
       "      <td>36.0</td>\n",
       "      <td>3.26</td>\n",
       "      <td>1.15</td>\n",
       "      <td>110.0</td>\n",
       "      <td>HS</td>\n",
       "      <td>Edward S. Marcus HS (Flower Mound, TX)</td>\n",
       "      <td>11</td>\n",
       "      <td>2007</td>\n",
       "    </tr>\n",
       "    <tr>\n",
       "      <th>54990</th>\n",
       "      <td>292</td>\n",
       "      <td>Red Sox</td>\n",
       "      <td>Y</td>\n",
       "      <td>$110,000</td>\n",
       "      <td>Travis Shaw</td>\n",
       "      <td>3B</td>\n",
       "      <td>8.4</td>\n",
       "      <td>733.0</td>\n",
       "      <td>2374.0</td>\n",
       "      <td>114.0</td>\n",
       "      <td>...</td>\n",
       "      <td>NaN</td>\n",
       "      <td>NaN</td>\n",
       "      <td>NaN</td>\n",
       "      <td>NaN</td>\n",
       "      <td>NaN</td>\n",
       "      <td>NaN</td>\n",
       "      <td>4Yr</td>\n",
       "      <td>Kent State University (Kent, OH)</td>\n",
       "      <td>9</td>\n",
       "      <td>2011</td>\n",
       "    </tr>\n",
       "    <tr>\n",
       "      <th>...</th>\n",
       "      <td>...</td>\n",
       "      <td>...</td>\n",
       "      <td>...</td>\n",
       "      <td>...</td>\n",
       "      <td>...</td>\n",
       "      <td>...</td>\n",
       "      <td>...</td>\n",
       "      <td>...</td>\n",
       "      <td>...</td>\n",
       "      <td>...</td>\n",
       "      <td>...</td>\n",
       "      <td>...</td>\n",
       "      <td>...</td>\n",
       "      <td>...</td>\n",
       "      <td>...</td>\n",
       "      <td>...</td>\n",
       "      <td>...</td>\n",
       "      <td>...</td>\n",
       "      <td>...</td>\n",
       "      <td>...</td>\n",
       "      <td>...</td>\n",
       "    </tr>\n",
       "    <tr>\n",
       "      <th>67750</th>\n",
       "      <td>388</td>\n",
       "      <td>Red Sox</td>\n",
       "      <td>Y</td>\n",
       "      <td>$150,000</td>\n",
       "      <td>Cade Feeney</td>\n",
       "      <td>P</td>\n",
       "      <td>NaN</td>\n",
       "      <td>NaN</td>\n",
       "      <td>NaN</td>\n",
       "      <td>NaN</td>\n",
       "      <td>...</td>\n",
       "      <td>NaN</td>\n",
       "      <td>NaN</td>\n",
       "      <td>NaN</td>\n",
       "      <td>NaN</td>\n",
       "      <td>NaN</td>\n",
       "      <td>NaN</td>\n",
       "      <td>4Yr</td>\n",
       "      <td>North Dakota State University (Fargo, ND)</td>\n",
       "      <td>13</td>\n",
       "      <td>2023</td>\n",
       "    </tr>\n",
       "    <tr>\n",
       "      <th>67780</th>\n",
       "      <td>418</td>\n",
       "      <td>Red Sox</td>\n",
       "      <td>Y</td>\n",
       "      <td>$150,000</td>\n",
       "      <td>Jojo Ingrassia</td>\n",
       "      <td>P</td>\n",
       "      <td>NaN</td>\n",
       "      <td>NaN</td>\n",
       "      <td>NaN</td>\n",
       "      <td>NaN</td>\n",
       "      <td>...</td>\n",
       "      <td>NaN</td>\n",
       "      <td>NaN</td>\n",
       "      <td>NaN</td>\n",
       "      <td>NaN</td>\n",
       "      <td>NaN</td>\n",
       "      <td>NaN</td>\n",
       "      <td>4Yr</td>\n",
       "      <td>California State University, Fullerton (Fuller...</td>\n",
       "      <td>14</td>\n",
       "      <td>2023</td>\n",
       "    </tr>\n",
       "    <tr>\n",
       "      <th>67840</th>\n",
       "      <td>478</td>\n",
       "      <td>Red Sox</td>\n",
       "      <td>Y</td>\n",
       "      <td>$150,000</td>\n",
       "      <td>Isaac Stebens</td>\n",
       "      <td>P</td>\n",
       "      <td>NaN</td>\n",
       "      <td>NaN</td>\n",
       "      <td>NaN</td>\n",
       "      <td>NaN</td>\n",
       "      <td>...</td>\n",
       "      <td>NaN</td>\n",
       "      <td>NaN</td>\n",
       "      <td>NaN</td>\n",
       "      <td>NaN</td>\n",
       "      <td>NaN</td>\n",
       "      <td>NaN</td>\n",
       "      <td>4Yr</td>\n",
       "      <td>Oklahoma State University (Stillwater, OK)</td>\n",
       "      <td>16</td>\n",
       "      <td>2023</td>\n",
       "    </tr>\n",
       "    <tr>\n",
       "      <th>67900</th>\n",
       "      <td>538</td>\n",
       "      <td>Red Sox</td>\n",
       "      <td>Y</td>\n",
       "      <td>$150,000</td>\n",
       "      <td>Zach Fogell</td>\n",
       "      <td>P</td>\n",
       "      <td>NaN</td>\n",
       "      <td>NaN</td>\n",
       "      <td>NaN</td>\n",
       "      <td>NaN</td>\n",
       "      <td>...</td>\n",
       "      <td>NaN</td>\n",
       "      <td>NaN</td>\n",
       "      <td>NaN</td>\n",
       "      <td>NaN</td>\n",
       "      <td>NaN</td>\n",
       "      <td>NaN</td>\n",
       "      <td>4Yr</td>\n",
       "      <td>University of Connecticut (Storrs, CT)</td>\n",
       "      <td>18</td>\n",
       "      <td>2023</td>\n",
       "    </tr>\n",
       "    <tr>\n",
       "      <th>67930</th>\n",
       "      <td>568</td>\n",
       "      <td>Red Sox</td>\n",
       "      <td>Y</td>\n",
       "      <td>$150,000</td>\n",
       "      <td>Stanley Tucker</td>\n",
       "      <td>OF</td>\n",
       "      <td>NaN</td>\n",
       "      <td>NaN</td>\n",
       "      <td>NaN</td>\n",
       "      <td>NaN</td>\n",
       "      <td>...</td>\n",
       "      <td>NaN</td>\n",
       "      <td>NaN</td>\n",
       "      <td>NaN</td>\n",
       "      <td>NaN</td>\n",
       "      <td>NaN</td>\n",
       "      <td>NaN</td>\n",
       "      <td>4Yr</td>\n",
       "      <td>Texas A&amp;M University (College Station, TX)</td>\n",
       "      <td>19</td>\n",
       "      <td>2023</td>\n",
       "    </tr>\n",
       "  </tbody>\n",
       "</table>\n",
       "<p>377 rows × 22 columns</p>\n",
       "</div>"
      ],
      "text/plain": [
       "       OvPck       Tm Signed     Bonus             Name  Pos   WAR       G  \\\n",
       "54870    172  Red Sox      Y  $750,000    Mookie Betts    SS  68.8  1337.0   \n",
       "48899    204  Red Sox      Y  $325,000   Anthony Rizzo    1B  39.1  1705.0   \n",
       "47716    523  Red Sox      Y  $140,000    Josh Reddick    OF  24.7  1305.0   \n",
       "49049    354  Red Sox      Y       NaN    Ryan Pressly   RHP   9.9    36.0   \n",
       "54990    292  Red Sox      Y  $110,000     Travis Shaw    3B   8.4   733.0   \n",
       "...      ...      ...    ...       ...              ...  ...   ...     ...   \n",
       "67750    388  Red Sox      Y  $150,000     Cade Feeney     P   NaN     NaN   \n",
       "67780    418  Red Sox      Y  $150,000  Jojo Ingrassia     P   NaN     NaN   \n",
       "67840    478  Red Sox      Y  $150,000   Isaac Stebens     P   NaN     NaN   \n",
       "67900    538  Red Sox      Y  $150,000     Zach Fogell     P   NaN     NaN   \n",
       "67930    568  Red Sox      Y  $150,000  Stanley Tucker    OF   NaN     NaN   \n",
       "\n",
       "           AB     HR  ...    G.1     W     L    ERA  WHIP     SV  Type  \\\n",
       "54870  5327.0  262.0  ...    NaN   NaN   NaN    NaN   NaN    NaN    HS   \n",
       "48899  6215.0  303.0  ...    2.0   0.0   0.0   0.00  1.00    0.0    HS   \n",
       "47716  4408.0  146.0  ...    1.0   0.0   0.0  13.50  4.50    0.0    JC   \n",
       "49049     0.0    0.0  ...  605.0  33.0  36.0   3.26  1.15  110.0    HS   \n",
       "54990  2374.0  114.0  ...    NaN   NaN   NaN    NaN   NaN    NaN   4Yr   \n",
       "...       ...    ...  ...    ...   ...   ...    ...   ...    ...   ...   \n",
       "67750     NaN    NaN  ...    NaN   NaN   NaN    NaN   NaN    NaN   4Yr   \n",
       "67780     NaN    NaN  ...    NaN   NaN   NaN    NaN   NaN    NaN   4Yr   \n",
       "67840     NaN    NaN  ...    NaN   NaN   NaN    NaN   NaN    NaN   4Yr   \n",
       "67900     NaN    NaN  ...    NaN   NaN   NaN    NaN   NaN    NaN   4Yr   \n",
       "67930     NaN    NaN  ...    NaN   NaN   NaN    NaN   NaN    NaN   4Yr   \n",
       "\n",
       "                                          Drafted Out of round_num  year  \n",
       "54870                         Overton HS (Nashville, TN)         5  2011  \n",
       "48899         Marjory Stoneman Douglas HS (Parkland, FL)         6  2007  \n",
       "47716        Middle Georgia State University (Macon, GA)        17  2006  \n",
       "49049             Edward S. Marcus HS (Flower Mound, TX)        11  2007  \n",
       "54990                   Kent State University (Kent, OH)         9  2011  \n",
       "...                                                  ...       ...   ...  \n",
       "67750          North Dakota State University (Fargo, ND)        13  2023  \n",
       "67780  California State University, Fullerton (Fuller...        14  2023  \n",
       "67840         Oklahoma State University (Stillwater, OK)        16  2023  \n",
       "67900             University of Connecticut (Storrs, CT)        18  2023  \n",
       "67930         Texas A&M University (College Station, TX)        19  2023  \n",
       "\n",
       "[377 rows x 22 columns]"
      ]
     },
     "execution_count": 198,
     "metadata": {},
     "output_type": "execute_result"
    }
   ],
   "source": [
    "rsox.sort_values(\"WAR\", ascending=False)"
   ]
  }
 ],
 "metadata": {
  "kernelspec": {
   "display_name": "Kyle",
   "language": "python",
   "name": "python3"
  },
  "language_info": {
   "codemirror_mode": {
    "name": "ipython",
    "version": 3
   },
   "file_extension": ".py",
   "mimetype": "text/x-python",
   "name": "python",
   "nbconvert_exporter": "python",
   "pygments_lexer": "ipython3",
   "version": "3.11.8"
  }
 },
 "nbformat": 4,
 "nbformat_minor": 2
}
