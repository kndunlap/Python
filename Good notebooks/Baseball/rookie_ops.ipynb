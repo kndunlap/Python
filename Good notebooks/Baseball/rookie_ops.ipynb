{
 "cells": [
  {
   "cell_type": "code",
   "execution_count": null,
   "metadata": {},
   "outputs": [],
   "source": [
    "# Importing the necessary libraries\n",
    "import pybaseball as pyb\n",
    "import numpy as np\n",
    "import pandas as pd"
   ]
  },
  {
   "cell_type": "code",
   "execution_count": null,
   "metadata": {},
   "outputs": [],
   "source": [
    "### Importing all drafts prior to 2012 when they changed to forty rounds.\n",
    "\n",
    "\n",
    "sixtyfive = pyb.amateur_draft(1965, 1)\n",
    "sixtysix = pyb.amateur_draft(1966, 1)\n",
    "sixtyseven = pyb.amateur_draft(1967, 1)\n",
    "sixtyeight = pyb.amateur_draft(1968, 1)\n",
    "sixtynine = pyb.amateur_draft(1969, 1)\n",
    "seventy = pyb.amateur_draft(1970, 1)\n",
    "seventyone = pyb.amateur_draft(1971, 1)\n",
    "seventytwo = pyb.amateur_draft(1972, 1)\n",
    "seventythree = pyb.amateur_draft(1973, 1)\n",
    "seventyfour = pyb.amateur_draft(1974, 1)\n",
    "seventyfive = pyb.amateur_draft(1975, 1)\n",
    "seventysix = pyb.amateur_draft(1976, 1)\n",
    "seventyseven = pyb.amateur_draft(1977, 1)\n",
    "seventyeight = pyb.amateur_draft(1978, 1)\n",
    "seventynine = pyb.amateur_draft(1979, 1)\n",
    "eighty = pyb.amateur_draft(1980, 1)\n",
    "eightyone = pyb.amateur_draft(1981, 1)\n",
    "eightytwo = pyb.amateur_draft(1982, 1)\n",
    "eightythree = pyb.amateur_draft(1983, 1)\n",
    "eightyfour = pyb.amateur_draft(1984, 1)\n",
    "eightyfive = pyb.amateur_draft(1985, 1)\n",
    "eightysix = pyb.amateur_draft(1986, 1)\n",
    "eightyseven = pyb.amateur_draft(1987, 1)\n",
    "eightyeight = pyb.amateur_draft(1988, 1)\n",
    "eightynine = pyb.amateur_draft(1989, 1)\n",
    "ninety = pyb.amateur_draft(1990, 1)\n",
    "ninetyone = pyb.amateur_draft(1991, 1)\n",
    "ninetytwo = pyb.amateur_draft(1992, 1)\n",
    "ninetythree = pyb.amateur_draft(1993, 1)\n",
    "ninetyfour = pyb.amateur_draft(1994, 1)\n",
    "ninetyfive = pyb.amateur_draft(1995, 1)\n",
    "ninetysix = pyb.amateur_draft(1996, 1)\n",
    "ninetyseven = pyb.amateur_draft(1997, 1)\n",
    "ninetyeight = pyb.amateur_draft(1998, 1)\n",
    "ninetynine = pyb.amateur_draft(1999, 1)\n",
    "twothousand = pyb.amateur_draft(2000, 1)\n",
    "twothousandone = pyb.amateur_draft(2001, 1)\n",
    "twothousandtwo = pyb.amateur_draft(2002, 1)\n",
    "twothousandthree = pyb.amateur_draft(2003, 1)\n",
    "twothousandfour = pyb.amateur_draft(2004, 1)\n",
    "twothousandfive = pyb.amateur_draft(2005, 1)\n",
    "twothousandsix = pyb.amateur_draft(2006, 1)\n",
    "twothousandseven = pyb.amateur_draft(2007, 1)\n",
    "twothousandeight = pyb.amateur_draft(2008, 1)\n",
    "twothousandnine = pyb.amateur_draft(2009, 1)\n",
    "twothousandten = pyb.amateur_draft(2010, 1)\n",
    "twothousandeleven = pyb.amateur_draft(2011, 1)\n",
    "\n",
    "\n",
    "\n",
    "\n"
   ]
  },
  {
   "cell_type": "code",
   "execution_count": null,
   "metadata": {},
   "outputs": [],
   "source": [
    "### Old code\n",
    "\n",
    "for year in range(2012, ):\n",
    "    draftResults = amateur_draft(year, 1)\n",
    "    draftResults_df = pd.DataFrame(draftResults)\n",
    "    draftResults_df[\"round_num\"] = 1\n",
    "    draftResults_df[\"year\"] = year\n",
    "\n",
    "    for round_num in range(2, 41):\n",
    "        temp = amateur_draft(year, round_num)\n",
    "        temp_df = pd.DataFrame(temp)\n",
    "        temp_df['round_num'] = round_num\n",
    "        temp_df['year'] = year\n",
    "        draftResults_df = pd.concat([draftResults_df, temp_df])\n",
    "        draftResults_df.to_csv(f'draftResults_{year}.csv', index=False)\n",
    "        "
   ]
  },
  {
   "cell_type": "code",
   "execution_count": null,
   "metadata": {},
   "outputs": [],
   "source": [
    "one = pd.read_csv('draftResults_1995.csv')\n",
    "two = pd.read_csv('draftResults_1996.csv')\n",
    "three = pd.read_csv('draftResults_1997.csv')\n",
    "four = pd.read_csv('draftResults_1998.csv')\n",
    "five = pd.read_csv('draftResults_1999.csv')\n",
    "six = pd.read_csv('draftResults_2000.csv')\n",
    "seven = pd.read_csv('draftResults_2001.csv')\n",
    "eight = pd.read_csv('draftResults_2002.csv')\n",
    "nine = pd.read_csv('draftResults_2003.csv')\n",
    "ten = pd.read_csv('draftResults_2004.csv')\n",
    "eleven = pd.read_csv('draftResults_2005.csv')\n",
    "twelve = pd.read_csv('draftResults_2006.csv')\n",
    "thirteen = pd.read_csv('draftResults_2007.csv')\n",
    "fourteen = pd.read_csv('draftResults_2008.csv')\n",
    "fifteen = pd.read_csv('draftResults_2009.csv')\n",
    "sixteen = pd.read_csv('draftResults_2010.csv')\n",
    "seventeen = pd.read_csv('draftResults_2011.csv')\n",
    "eighteen = pd.read_csv('draftResults_2012.csv')\n",
    "nineteen = pd.read_csv('draftResults_2013.csv')\n",
    "twenty = pd.read_csv('draftResults_2014.csv')\n",
    "twentyone = pd.read_csv('draftResults_2015.csv')\n",
    "twentytwo = pd.read_csv('draftResults_2016.csv')\n",
    "twentythree = pd.read_csv('draftResults_2017.csv')\n",
    "twentyfour = pd.read_csv('draftResults_2018.csv')\n",
    "twentyfive = pd.read_csv('draftResults_2019.csv')\n",
    "twentysix = pd.read_csv('draftResults_2020.csv')\n",
    "twentyseven = pd.read_csv('draftResults_2021.csv')\n",
    "twentyeight = pd.read_csv('draftResults_2022.csv')\n",
    "twentynine = pd.read_csv('draftResults_2023.csv')\n",
    "\n",
    "\n",
    "\n"
   ]
  },
  {
   "cell_type": "code",
   "execution_count": null,
   "metadata": {
    "vscode": {
     "languageId": "javascript"
    }
   },
   "outputs": [],
   "source": [
    "import pandas as pd\n",
    "\n",
    "dataframes = [one, two, three, four, five, six, seven, eight, nine, ten, eleven, twelve, thirteen, fourteen, fifteen, sixteen, seventeen, eighteen, nineteen, twenty, twentyone, twentytwo, twentythree, twentyfour, twentyfive, twentysix, twentyseven, twentyeight, twentynine]\n",
    "\n",
    "stacked_df = pd.concat(dataframes)\n",
    "\n",
    "stacked_df.reset_index(drop=True, inplace=True)\n",
    "\n",
    "print(stacked_df)"
   ]
  },
  {
   "cell_type": "code",
   "execution_count": null,
   "metadata": {},
   "outputs": [],
   "source": [
    "stacked_df.head()\n"
   ]
  },
  {
   "cell_type": "code",
   "execution_count": null,
   "metadata": {},
   "outputs": [],
   "source": [
    "stacked_df.groupby(\"Drafted Out of\")[\"WAR\"].sum().sort_values(ascending=False)"
   ]
  },
  {
   "cell_type": "code",
   "execution_count": null,
   "metadata": {},
   "outputs": [],
   "source": [
    "fullerton = stacked_df[(stacked_df[\"Drafted Out of\"] == \"University of California, Los Angeles (Los Angeles, CA)\") & (stacked_df[\"WAR\"] > 2)]\n",
    "\n",
    "fullerton = fullerton.sort_values(\"WAR\", ascending=False)\n",
    "\n",
    "fullerton.head(20)\n",
    "\n",
    "\n",
    "import matplotlib.pyplot as plt\n",
    "\n",
    "plt.bar(fullerton[\"Name\"], fullerton[\"WAR\"])\n",
    "plt.xticks(rotation=90, fontsize=8)\n",
    "plt.show()\n"
   ]
  },
  {
   "cell_type": "code",
   "execution_count": null,
   "metadata": {},
   "outputs": [],
   "source": [
    "stacked_df.groupby([\"round_num\", \"year\"])[\"WAR\"].sum().sort_values(ascending=False)\n",
    "\n",
    "test = stacked_df[(stacked_df[\"round_num\"] == 4) & (stacked_df[\"year\"] == 2000)]\n",
    "test = test.sort_values(\"WAR\", ascending=False)\n",
    "\n",
    "plt.bar(test[\"Name\"], test[\"WAR\"])\n",
    "plt.xticks(rotation=90, fontsize=6)\n"
   ]
  },
  {
   "cell_type": "code",
   "execution_count": null,
   "metadata": {},
   "outputs": [],
   "source": [
    "pd.set_option('display.max_rows', 200)\n",
    "stacked_df.groupby([\"round_num\", \"year\"])[\"WAR\"].sum().sort_values(ascending=False).head(200)\n"
   ]
  },
  {
   "cell_type": "code",
   "execution_count": null,
   "metadata": {},
   "outputs": [],
   "source": [
    "stacked_df.head()"
   ]
  },
  {
   "cell_type": "code",
   "execution_count": null,
   "metadata": {},
   "outputs": [],
   "source": [
    "from pandas import pivot_table\n",
    "\n",
    "stacked_df['Tm'] = stacked_df['Tm'].str.split(' via').str[0]\n",
    "\n",
    "table = stacked_df.pivot_table(\"WAR\", index = [\"Tm\"], columns = \"round_num\", aggfunc=np.sum)\n",
    "print(table)\n",
    "\n",
    "table.min()\n",
    "\n",
    "### Next up - clean up the table to merge like teams. We will want to drop some columns too."
   ]
  }
 ],
 "metadata": {
  "kernelspec": {
   "display_name": "Kyle",
   "language": "python",
   "name": "python3"
  },
  "language_info": {
   "codemirror_mode": {
    "name": "ipython",
    "version": 3
   },
   "file_extension": ".py",
   "mimetype": "text/x-python",
   "name": "python",
   "nbconvert_exporter": "python",
   "pygments_lexer": "ipython3",
   "version": "3.11.8"
  }
 },
 "nbformat": 4,
 "nbformat_minor": 2
}
